{
  "nbformat": 4,
  "nbformat_minor": 0,
  "metadata": {
    "colab": {
      "provenance": [],
      "authorship_tag": "ABX9TyNa4NbLct1+ABYP3/pWYSbO",
      "include_colab_link": true
    },
    "kernelspec": {
      "name": "python3",
      "display_name": "Python 3"
    },
    "language_info": {
      "name": "python"
    }
  },
  "cells": [
    {
      "cell_type": "markdown",
      "metadata": {
        "id": "view-in-github",
        "colab_type": "text"
      },
      "source": [
        "<a href=\"https://colab.research.google.com/github/mazenhat/Python_Excel_Automation/blob/main/Test.ipynb\" target=\"_parent\"><img src=\"https://colab.research.google.com/assets/colab-badge.svg\" alt=\"Open In Colab\"/></a>"
      ]
    },
    {
      "cell_type": "code",
      "execution_count": 1,
      "metadata": {
        "colab": {
          "base_uri": "https://localhost:8080/"
        },
        "id": "gyb3IUVyBcFW",
        "outputId": "bfd6b9f6-0476-408e-d723-ca42e14c71cf"
      },
      "outputs": [
        {
          "output_type": "execute_result",
          "data": {
            "text/plain": [
              "-1"
            ]
          },
          "metadata": {},
          "execution_count": 1
        }
      ],
      "source": [
        "2-3"
      ]
    },
    {
      "cell_type": "markdown",
      "source": [
        "hi\n",
        "text"
      ],
      "metadata": {
        "id": "gjuFWZv_Ck-_"
      }
    },
    {
      "cell_type": "code",
      "source": [],
      "metadata": {
        "id": "RP9TjTh_B3ix"
      },
      "execution_count": null,
      "outputs": []
    }
  ]
}